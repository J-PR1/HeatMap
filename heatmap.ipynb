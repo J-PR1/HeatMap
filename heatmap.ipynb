{
 "cells": [
  {
   "cell_type": "markdown",
   "metadata": {},
   "source": [
    "# Prédiction de l'origine de chansons"
   ]
  },
  {
   "cell_type": "code",
   "execution_count": 1,
   "metadata": {},
   "outputs": [],
   "source": [
    "import pandas as pd\n",
    "from matplotlib import pyplot as plt\n",
    "%matplotlib inline\n",
    "\n",
    "from autograd import grad\n",
    "import autograd.numpy as np\n",
    "from autograd.misc.optimizers import sgd\n",
    "from autograd.misc import flatten\n",
    "import autograd.numpy.random as rdm\n",
    "\n",
    "from sklearn.model_selection import train_test_split"
   ]
  },
  {
   "cell_type": "markdown",
   "metadata": {},
   "source": [
    "# Import des données "
   ]
  },
  {
   "cell_type": "code",
   "execution_count": 2,
   "metadata": {},
   "outputs": [],
   "source": [
    "data_folder = 'Geographical Original of Music/'\n",
    "data_path = data_folder + '/default_plus_chromatic_features_1059_tracks.txt'\n",
    "data = pd.read_csv(data_path , header=None)\n",
    "heatmaps = np.loadtxt('Geographical Original of Music/heatmap.txt')"
   ]
  },
  {
   "cell_type": "code",
   "execution_count": 3,
   "metadata": {},
   "outputs": [
    {
     "name": "stdout",
     "output_type": "stream",
     "text": [
      "103\n"
     ]
    }
   ],
   "source": [
    "i = 114\n",
    "while sum(data.iloc[:, 115] == data.iloc[:, i]) == data.shape[0]:\n",
    "    i -= 1\n",
    "print(i)"
   ]
  },
  {
   "cell_type": "markdown",
   "metadata": {},
   "source": [
    "On remarque que les 12 dernières features sont identiques pour chaque chanson. Ces données étant redondantes on devrait les supprimer ce qui permettrait de gagner en efficacité mais on les conserve par respect des consignes de l'exercice."
   ]
  },
  {
   "cell_type": "code",
   "execution_count": 4,
   "metadata": {},
   "outputs": [],
   "source": [
    "val_size = 0.2\n",
    "inputs = np.array(data.iloc[:,0:116])\n",
    "targets = np.array(data.iloc[:,116:118])\n",
    "train_inputs, val_inputs,train_targets, val_targets = train_test_split(\n",
    "    inputs, targets, test_size=val_size, random_state=3)"
   ]
  },
  {
   "cell_type": "code",
   "execution_count": 5,
   "metadata": {},
   "outputs": [
    {
     "name": "stdout",
     "output_type": "stream",
     "text": [
      "(847, 116)\n",
      "(847, 2)\n",
      "               116          117\n",
      "count  1059.000000  1059.000000\n",
      "mean     26.651294    38.405656\n",
      "std      18.459432    50.419790\n",
      "min     -35.300000   -88.760000\n",
      "25%      14.660000     3.210000\n",
      "50%      33.660000    32.830000\n",
      "75%      39.910000    74.600000\n",
      "max      54.680000   149.120000\n"
     ]
    }
   ],
   "source": [
    "print(train_inputs.shape)\n",
    "print(train_targets.shape)\n",
    "print(data.iloc[:,116:118].describe())"
   ]
  },
  {
   "cell_type": "markdown",
   "metadata": {},
   "source": [
    "# Réseaux de Neurones"
   ]
  },
  {
   "cell_type": "markdown",
   "metadata": {},
   "source": [
    "On construit ici les différentes fonctions qui permettront d'implémenter les réseaux de neurones et leur entrainement par descente de gradient."
   ]
  },
  {
   "cell_type": "markdown",
   "metadata": {},
   "source": [
    "#### Initialisation des paramètres"
   ]
  },
  {
   "cell_type": "markdown",
   "metadata": {},
   "source": [
    "On initialise aléatoirement les poids du réseaux de neurones. Il est important d'avoir recours à l'aléatoire pour cette étape pour éviter toute symétrie entre les cellules du réseau. En effet si on initialise tous les poids de façon identiques alors toutes les cellules recevront le même signal (quelques soient les inputs) et évolueront de la même façon. <br>"
   ]
  },
  {
   "cell_type": "code",
   "execution_count": 6,
   "metadata": {
    "collapsed": true
   },
   "outputs": [],
   "source": [
    "def init_params(layers_sizes, rstate=rdm.RandomState(0)):\n",
    "        return [rstate.randn(in_s, out_s)\n",
    "                for in_s, out_s in zip(layers_sizes[:-1], layers_sizes[1:])]"
   ]
  },
  {
   "cell_type": "markdown",
   "metadata": {},
   "source": [
    "#### Application du réseau de neurones aux données (\"feed-forward\")"
   ]
  },
  {
   "cell_type": "code",
   "execution_count": 7,
   "metadata": {
    "collapsed": true
   },
   "outputs": [],
   "source": [
    "def forward(inputs, params, activation=np.tanh):\n",
    "    for w in params:\n",
    "        outputs = np.dot(inputs, w)\n",
    "        inputs = np.tanh(outputs)\n",
    "    return activation(outputs)"
   ]
  },
  {
   "cell_type": "code",
   "execution_count": 8,
   "metadata": {
    "collapsed": true
   },
   "outputs": [],
   "source": [
    "def softmax(x):\n",
    "    \"\"\"Compute softmax values for each sets of scores in x.\"\"\"\n",
    "    e_x = np.exp(x - np.max(x))\n",
    "    return e_x / np.sum(e_x, axis=0) "
   ]
  },
  {
   "cell_type": "markdown",
   "metadata": {},
   "source": [
    "#### Descente de gradient "
   ]
  },
  {
   "cell_type": "markdown",
   "metadata": {},
   "source": [
    "La descente de gradient permet de mettre à jour les poids du réseaux pour minimiser la perte en utilisant la formule : \n",
    "$$\n",
    "W = W - \\gamma * \\nabla \\mathcal{L}\n",
    "$$\n",
    "où $\\nabla \\mathcal{L}$ est le gradient de la perte par rapport au pramètre $W$ et $\\gamma$ est le \"learning rate\" que l'on choisi arbitrairement. <br>\n",
    "A chaque itération on calcule la perte moyenne sur la base d'entrainement et la perte moyenne sur la base de validation pour pouvoir contrôler l'évolution de l'apprentissage."
   ]
  },
  {
   "cell_type": "code",
   "execution_count": 9,
   "metadata": {
    "collapsed": true
   },
   "outputs": [],
   "source": [
    "def gradient_descent(obj, loss, train_in, train_tar, \n",
    "                     niter=1000, lr=0.01, val_in=None, val_tar=None, verbose=True):\n",
    "    train_losses = []\n",
    "    val_losses = []\n",
    "    # define a loss function that will be used to compute gradient \n",
    "    def loss2(weights):  \n",
    "        return loss(weights, train_in, train_tar)\n",
    "    # Define gradient \n",
    "    gradient = grad(loss2)\n",
    "    if verbose:\n",
    "        print(\"Optimizing network parameters...\")\n",
    "    for iteration in range(niter):\n",
    "        train_loss = loss(obj, train_in, train_tar)/train_in.shape[0]\n",
    "        train_losses += [train_loss]\n",
    "        if  val_in is not None and val_tar is not None :\n",
    "            val_loss = loss(weights, val_in, val_tar)/val_in.shape[0]\n",
    "            val_losses += [val_loss]\n",
    "        if iteration % (niter/10) == 0 and verbose:\n",
    "            log = 'Iteration {}, training loss : {}, validation loss {}'\n",
    "            print(log.format(iteration, train_loss, val_loss))\n",
    "        update = gradient(obj)\n",
    "        for ind in range(len(obj)):\n",
    "            obj[ind] -= update[ind] *lr\n",
    "    return train_losses, val_losses    "
   ]
  },
  {
   "cell_type": "markdown",
   "metadata": {},
   "source": [
    "# Prédiction de la latitude et de la longitude"
   ]
  },
  {
   "cell_type": "markdown",
   "metadata": {},
   "source": [
    "A partir des 116 features disponibles, on essaye de prédire de façon exacte la latitude et la longitude de l'origine de la chanson. "
   ]
  },
  {
   "cell_type": "markdown",
   "metadata": {},
   "source": [
    "#### Définition des paramètres du réseau"
   ]
  },
  {
   "cell_type": "markdown",
   "metadata": {},
   "source": [
    "On utilise un réseau composé de trois couches de tailles 116 en entrée, 2 en sortie et $layer\\_size$ pour la couche intermédiaire. <br>Il est de la forme : \n",
    "$$\n",
    "f(x) = \\tanh(A_2 \\tanh(A_1 x))\n",
    "$$\n",
    "Avec $A_1$ une matrice de dimension $116 * layer\\_size$ et $A_2$ une matrice de dimension $ layer\\_size * 2$"
   ]
  },
  {
   "cell_type": "code",
   "execution_count": 10,
   "metadata": {
    "collapsed": true
   },
   "outputs": [],
   "source": [
    "layer_size = 40\n",
    "layers_sizes = [116, layer_size, 2]"
   ]
  },
  {
   "cell_type": "markdown",
   "metadata": {},
   "source": [
    "#### Remise à l'échelle"
   ]
  },
  {
   "cell_type": "markdown",
   "metadata": {},
   "source": [
    "La fonction d'activation de la couche sortie est la fonction $tanh$ qui renvoit des valeurs entre $-1$ et $1$. Or la latitude évolue entre $-90$ et $90$ et la longitude entre $-180$ et $180$, il faut donc redimensionner les résultats. "
   ]
  },
  {
   "cell_type": "code",
   "execution_count": 11,
   "metadata": {
    "collapsed": true
   },
   "outputs": [],
   "source": [
    "def rescale(outputs):\n",
    "    return outputs * np.array([90,180])"
   ]
  },
  {
   "cell_type": "markdown",
   "metadata": {},
   "source": [
    "#### Fonction de perte"
   ]
  },
  {
   "cell_type": "markdown",
   "metadata": {},
   "source": [
    "On utilise la distance orthodromique définie de la façon suivante :\n",
    "$$\n",
    "2 \\arcsin * R * \\sqrt{\\sin^2\\frac{\\delta - \\delta'}{2} + \\cos \\delta * \\cos \\delta' * \\sin^2\\frac{\\lambda - \\lambda'}{2}}\n",
    "$$\n",
    "Avec $\\delta$ et $\\delta'$ les latitudes et $\\lambda$ et $\\lambda'$ les longitudes. R représente le rayon de la sphère considére, on prend ici le rayon de la Terre.\n",
    "<br>\n",
    "Attention les angles doivent être donnés en radians."
   ]
  },
  {
   "cell_type": "code",
   "execution_count": 12,
   "metadata": {
    "collapsed": true
   },
   "outputs": [],
   "source": [
    " def arc_cos_distance(A, B, R=6371):\n",
    "        # Converting to radians\n",
    "        A = A * np.pi /180\n",
    "        B = B * np.pi /180\n",
    "        return 2 * R * np.arcsin(\n",
    "            np.sqrt(\n",
    "                np.sin((A[:,0] - B[:,0]) / 2) ** 2 + \n",
    "                np.cos(A[:,0]) * np.cos(B[:,0]) * np.sin((A[:,1] - B[:,1]) / 2) ** 2\n",
    "            )\n",
    "        )"
   ]
  },
  {
   "cell_type": "code",
   "execution_count": 13,
   "metadata": {
    "collapsed": true
   },
   "outputs": [],
   "source": [
    "def lossAC(weights, inputs, targets):\n",
    "    \"\"\"arc-cosine distance on the sphere\"\"\"\n",
    "    predictions = forward(inputs, weights)\n",
    "    rescaled_pred = rescale(predictions)\n",
    "    return np.sum(arc_cos_distance(rescaled_pred, targets))"
   ]
  },
  {
   "cell_type": "markdown",
   "metadata": {},
   "source": [
    "#### Préparation des données"
   ]
  },
  {
   "cell_type": "markdown",
   "metadata": {},
   "source": [
    "On définit les tailles des base d'entrainement et de validation puis on procède à la séparation."
   ]
  },
  {
   "cell_type": "code",
   "execution_count": 14,
   "metadata": {
    "collapsed": true
   },
   "outputs": [],
   "source": [
    "val_size = 0.4\n",
    "inputs = np.array(data.iloc[:,0:116])\n",
    "targets = np.array(data.iloc[:,116:118])\n",
    "train_inputs, val_inputs,train_targets, val_targets = train_test_split(\n",
    "    inputs, targets, test_size=val_size, random_state=3)"
   ]
  },
  {
   "cell_type": "markdown",
   "metadata": {},
   "source": [
    "#### Choix de la taille de la couche intermédaire"
   ]
  },
  {
   "cell_type": "code",
   "execution_count": 15,
   "metadata": {},
   "outputs": [
    {
     "name": "stdout",
     "output_type": "stream",
     "text": [
      "layer size 1\n"
     ]
    },
    {
     "name": "stderr",
     "output_type": "stream",
     "text": [
      "//anaconda/lib/python3.6/site-packages/autograd/tracer.py:48: RuntimeWarning: overflow encountered in cosh\n",
      "  return f_raw(*args, **kwargs)\n",
      "//anaconda/lib/python3.6/site-packages/autograd/numpy/numpy_vjps.py:88: RuntimeWarning: overflow encountered in square\n",
      "  defvjp(anp.tanh,   lambda ans, x : lambda g: g / anp.cosh(x) **2)\n"
     ]
    },
    {
     "name": "stdout",
     "output_type": "stream",
     "text": [
      "layer size 2\n",
      "layer size 3\n",
      "layer size 4\n",
      "layer size 5\n",
      "layer size 6\n",
      "layer size 7\n",
      "layer size 8\n",
      "layer size 9\n",
      "layer size 10\n",
      "layer size 15\n",
      "layer size 20\n",
      "layer size 30\n",
      "layer size 40\n"
     ]
    },
    {
     "data": {
      "image/png": "[encoded data removed]",
      "text/plain": [
       "<matplotlib.figure.Figure at 0x115e24978>"
      ]
     },
     "metadata": {},
     "output_type": "display_data"
    }
   ],
   "source": [
    "layer_sizes = [1, 2, 3, 4, 5, 6, 7, 8, 9, 10, 15, 20, 30, 40]\n",
    "niter =2000\n",
    "tl = []\n",
    "vl = []\n",
    "for layer_size in layer_sizes:\n",
    "    print('layer size ' + str(layer_size))\n",
    "    layers_sizes = [116, layer_size, 2]\n",
    "    weights = init_params(layers_sizes)\n",
    "    train_losses, val_losses = gradient_descent(weights, lossAC, \n",
    "                                                train_inputs, train_targets, \n",
    "                                                lr=(10**(-2)), niter=niter, verbose=False,\n",
    "                                                val_in=val_inputs, val_tar=val_targets)\n",
    "    tl += [train_losses[-1]]\n",
    "    vl += [val_losses[-1]]\n",
    "    \n",
    "# show losses\n",
    "plt.plot(layer_sizes, tl, 'r', lw=1)\n",
    "plt.plot(layer_sizes, vl, 'b', lw=1)\n",
    "plt.show()"
   ]
  },
  {
   "cell_type": "markdown",
   "metadata": {},
   "source": [
    "La première chose que l'on remarque est l'irrégularité des résultats. On pouvait pourtant s'attendre à ce que la perte d'entrainement diminue régulièrement avec la taille de de la couche intermédiaire mais ce n'est pas le cas.\n",
    "On peut peut-etre l'expliquer par la difficulté (attendue) à prédire correctement la latitude et la longitude.\n",
    "<br>\n",
    "Dans un second temps on remarque que la perte de validation est sesiblement proche de la perte d'entrainement jusqu'à environ 10 puis elle s'en écarte. Le réseau commence à overfitter les données et donc il perd en perforamnce sur la base de validation. "
   ]
  },
  {
   "cell_type": "markdown",
   "metadata": {},
   "source": [
    "#### Evolution de la perte"
   ]
  },
  {
   "cell_type": "markdown",
   "metadata": {},
   "source": [
    "Pour mettre en évidence le phénomène d'overfit que l'on pense avoir repéré, on considère deux paramétrisations, la première dans laquelle la couche intermédiaire compte 10 unités et la deuxième dans laquelle elle en compte 40."
   ]
  },
  {
   "cell_type": "code",
   "execution_count": 16,
   "metadata": {
    "scrolled": false
   },
   "outputs": [
    {
     "name": "stdout",
     "output_type": "stream",
     "text": [
      "Optimizing network parameters...\n",
      "Iteration 0, training loss : 9939.273657445792, validation loss 9860.689085787928\n",
      "Iteration 500, training loss : 9317.460241632123, validation loss 9739.88731760491\n",
      "Iteration 1000, training loss : 9163.428702024485, validation loss 9716.383761708354\n",
      "Iteration 1500, training loss : 9026.293114730342, validation loss 9656.09905362764\n",
      "Iteration 2000, training loss : 8806.101230186845, validation loss 9526.518791074028\n",
      "Iteration 2500, training loss : 7791.924500040358, validation loss 8337.938863323649\n",
      "Iteration 3000, training loss : 7434.076892916422, validation loss 8206.181598731804\n",
      "Iteration 3500, training loss : 7261.988204200579, validation loss 8176.406422568175\n",
      "Iteration 4000, training loss : 7144.624903991787, validation loss 8203.808469653419\n",
      "Iteration 4500, training loss : 7031.2429429006415, validation loss 8204.354867247303\n",
      "Optimizing network parameters...\n",
      "Iteration 0, training loss : 10538.480753034779, validation loss 10366.747875657153\n",
      "Iteration 500, training loss : 9480.74199427909, validation loss 10155.045348921672\n",
      "Iteration 1000, training loss : 9338.780172445631, validation loss 10145.149863967874\n",
      "Iteration 1500, training loss : 9274.517334144093, validation loss 10132.207543105364\n",
      "Iteration 2000, training loss : 9207.108144199556, validation loss 10117.356989041162\n",
      "Iteration 2500, training loss : 9144.469788379161, validation loss 10117.96504656339\n",
      "Iteration 3000, training loss : 9114.498913952419, validation loss 10126.976823243655\n",
      "Iteration 3500, training loss : 9053.223763200322, validation loss 10135.349922298923\n",
      "Iteration 4000, training loss : 9012.814775131958, validation loss 10119.68304352512\n",
      "Iteration 4500, training loss : 8963.349765615007, validation loss 10109.495233773965\n"
     ]
    },
    {
     "data": {
      "image/png": "[encoded data removed]",
      "text/plain": [
       "<matplotlib.figure.Figure at 0x115c53f28>"
      ]
     },
     "metadata": {},
     "output_type": "display_data"
    }
   ],
   "source": [
    "i = 1\n",
    "for layer_size in [10, 40]:\n",
    "    layers_sizes = [116, layer_size, 2]\n",
    "    niter =5000\n",
    "    weights = init_params(layers_sizes)\n",
    "    train_losses, val_losses = gradient_descent(weights, lossAC, \n",
    "                                                train_inputs, train_targets, \n",
    "                                                lr=(10**(-8)), niter=niter, \n",
    "                                                val_in=val_inputs, val_tar=val_targets)\n",
    "    # show losses\n",
    "    plt.subplot(1, 2, i)\n",
    "    i += 1\n",
    "    plt.plot(np.arange(niter), train_losses, 'r', lw=1)\n",
    "    plt.plot(np.arange(niter), val_losses, 'b', lw=1)\n",
    "    plt.title('layer size = ' +str(layer_size))\n",
    "plt.show()"
   ]
  },
  {
   "cell_type": "markdown",
   "metadata": {},
   "source": [
    "Dans le cas avec 10 unités dans la couche intermédiaire, la perte de validation suit régulièrement celle d'entrainement (l'écart à la fin n'est pas très inquiétant car on ne s'attend pas à ce que la performance soit aussi bonne sur la valdiation que sur l'entrainement), au contraire le graphe de droite met bien en évidence l'overfit : la perte de validation ne diminue quasiement pas alorq que celle d'entrainement subit une forte chute. Le modèle n'arrive pas à généraliser."
   ]
  },
  {
   "cell_type": "markdown",
   "metadata": {},
   "source": [
    "# Prédiction de heatmap"
   ]
  },
  {
   "cell_type": "markdown",
   "metadata": {},
   "source": [
    "On ne cherche plus à prédire exactement la latitude et la longitude de l'origine mais plutôt une distribution de la probabilité de l'origine. Celle-ci est représentée sous forme de heatmap."
   ]
  },
  {
   "cell_type": "markdown",
   "metadata": {},
   "source": [
    "#### Préparation des données"
   ]
  },
  {
   "cell_type": "code",
   "execution_count": 17,
   "metadata": {},
   "outputs": [],
   "source": [
    "val_size = 0.4\n",
    "targets = heatmaps\n",
    "inputs = np.array(data.iloc[:,0:116])\n",
    "train_inputs, val_inputs,train_targets, val_targets = train_test_split(inputs, targets, \n",
    "                                              test_size=val_size, random_state=3)"
   ]
  },
  {
   "cell_type": "markdown",
   "metadata": {},
   "source": [
    "#### Fonction de perte"
   ]
  },
  {
   "cell_type": "markdown",
   "metadata": {},
   "source": [
    "On cherche à caractériser la distance entre deux distributions de probabilités, on utilise donc la divergence de Kullback-Leibler définie par :\n",
    "$$\n",
    "D(p||q) = \\sum p[i] * \\log \\frac{p[i]}{q[i]}\n",
    "$$\n",
    "On ajoute une quantité infinitésimale à chaque élément de la distribution pour éviter d'avoir à gérer des divisions par zéro."
   ]
  },
  {
   "cell_type": "code",
   "execution_count": 18,
   "metadata": {},
   "outputs": [],
   "source": [
    "def KL_distance(A,B):\n",
    "    # Add a very small value to each element to avoid division by zero\n",
    "    A = A + 10 ** (-8)\n",
    "    B = B + 10 ** (-8)\n",
    "    return np.sum((A) * np.log(A/B))"
   ]
  },
  {
   "cell_type": "code",
   "execution_count": 19,
   "metadata": {},
   "outputs": [],
   "source": [
    "def lossKL(weights, inputs, targets):\n",
    "    predictions = forward(inputs, weights, softmax)\n",
    "    return KL_distance(targets, predictions)"
   ]
  },
  {
   "cell_type": "markdown",
   "metadata": {},
   "source": [
    "#### Choix de la taille de la couche intermédaire"
   ]
  },
  {
   "cell_type": "code",
   "execution_count": 20,
   "metadata": {},
   "outputs": [
    {
     "name": "stdout",
     "output_type": "stream",
     "text": [
      "layer size 1\n",
      "layer size 2\n",
      "layer size 3\n",
      "layer size 4\n",
      "layer size 5\n",
      "layer size 6\n",
      "layer size 7\n",
      "layer size 8\n",
      "layer size 9\n",
      "layer size 10\n",
      "layer size 15\n",
      "layer size 20\n",
      "layer size 30\n",
      "layer size 40\n"
     ]
    },
    {
     "data": {
      "image/png": "[encoded data removed]",
      "text/plain": [
       "<matplotlib.figure.Figure at 0x115a70e48>"
      ]
     },
     "metadata": {},
     "output_type": "display_data"
    }
   ],
   "source": [
    "layer_sizes = [1, 2, 3, 4, 5, 6, 7, 8, 9, 10, 15, 20, 30, 40]\n",
    "niter =2000\n",
    "tl = []\n",
    "vl = []\n",
    "for layer_size in layer_sizes:\n",
    "    print('layer size ' + str(layer_size))\n",
    "    layers_sizes = [116, layer_size, 400]\n",
    "    weights = init_params(layers_sizes)\n",
    "    train_losses, val_losses = gradient_descent(weights, lossKL, \n",
    "                                                train_inputs, train_targets, \n",
    "                                                lr=(10**(-2)), niter=niter, verbose=False,\n",
    "                                                val_in=val_inputs, val_tar=val_targets)\n",
    "    tl += [train_losses[-1]]\n",
    "    vl += [val_losses[-1]]\n",
    "    \n",
    "# show losses\n",
    "plt.plot(layer_sizes, tl, 'r', lw=3)\n",
    "plt.plot(layer_sizes, vl, 'b', lw=3)\n",
    "plt.show()"
   ]
  },
  {
   "cell_type": "markdown",
   "metadata": {},
   "source": [
    "Contrairement à la première conifugration on botient des courbes aux quelles on pouvait s'attendre : plus la couche est grande mieux le réseau performe sur la base de test mais plus il a de difficulté sut la base de validation.\n",
    "<br>\n",
    "On choisit de définir la longuer de la couche intermédiaire à 10."
   ]
  },
  {
   "cell_type": "markdown",
   "metadata": {},
   "source": [
    "#### Evolution de la perte"
   ]
  },
  {
   "cell_type": "code",
   "execution_count": 21,
   "metadata": {},
   "outputs": [
    {
     "name": "stdout",
     "output_type": "stream",
     "text": [
      "Optimizing network parameters...\n",
      "Iteration 0, training loss : 6.681762085541962, validation loss 6.389512656079795\n",
      "Iteration 500, training loss : 2.5622571043372138, validation loss 3.0646587392008353\n",
      "Iteration 1000, training loss : 2.4301628917112934, validation loss 3.1752760813188994\n",
      "Iteration 1500, training loss : 2.3648662579064004, validation loss 3.3405898697076197\n",
      "Iteration 2000, training loss : 2.3111092311728725, validation loss 3.435557464792154\n",
      "Iteration 2500, training loss : 2.302116903355823, validation loss 3.510613097547409\n",
      "Iteration 3000, training loss : 2.2817301787394952, validation loss 3.576094468088038\n",
      "Iteration 3500, training loss : 2.2745393031085235, validation loss 3.604111238699123\n",
      "Iteration 4000, training loss : 2.265489540354009, validation loss 3.6262683869421584\n",
      "Iteration 4500, training loss : 2.266423868501343, validation loss 3.65302473709829\n"
     ]
    },
    {
     "data": {
      "image/png": "[encoded data removed]",
      "text/plain": [
       "<matplotlib.figure.Figure at 0x115b9f0f0>"
      ]
     },
     "metadata": {},
     "output_type": "display_data"
    }
   ],
   "source": [
    "layer_size = 10\n",
    "layers_sizes = [116, layer_size, 400]\n",
    "niter =5000\n",
    "weights = init_params(layers_sizes)\n",
    "train_losses, val_losses = gradient_descent(weights, lossKL, \n",
    "                                            train_inputs, train_targets, \n",
    "                                            lr=(10**(-2)), niter=niter, \n",
    "                                            val_in=val_inputs, val_tar=val_targets)\n",
    "# show losses\n",
    "plt.plot(np.arange(niter), train_losses, 'r', lw=3)\n",
    "plt.plot(np.arange(niter), val_losses, 'b', lw=3)\n",
    "plt.show()"
   ]
  },
  {
   "cell_type": "markdown",
   "metadata": {},
   "source": [
    "Les pertes suivent une trajectoire attendue. Une forte diminution au début qui correspond aux plus grandes variations dans les poids (plus ils sont éloignés de la bonne valeur plus ils se déplacent) qui se poursuit de plus ne plus modérément. L'erreur de validation suit la meme forte diminution mais sui tune assymptote plus élevée. Comme dans le cas de la longitude et de la latitude cet écart enre perte d'entrainement et de validation n'est pas important car on ne s'attend pas à ce que le réseau performe aussi bien sur la base de validation que sur celle d'entrainement : c'est une courbe assez classique lorsqu'on supervise l'apprentissage d'un réseau de neurones."
   ]
  }
 ],
 "metadata": {
  "kernelspec": {
   "display_name": "Python 3",
   "language": "python",
   "name": "python3"
  },
  "language_info": {
   "codemirror_mode": {
    "name": "ipython",
    "version": 3
   },
   "file_extension": ".py",
   "mimetype": "text/x-python",
   "name": "python",
   "nbconvert_exporter": "python",
   "pygments_lexer": "ipython3",
   "version": "3.6.1"
  }
 },
 "nbformat": 4,
 "nbformat_minor": 2
}
